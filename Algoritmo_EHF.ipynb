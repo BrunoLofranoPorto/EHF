{
  "nbformat": 4,
  "nbformat_minor": 0,
  "metadata": {
    "colab": {
      "provenance": []
    },
    "kernelspec": {
      "name": "python3",
      "display_name": "Python 3"
    },
    "language_info": {
      "name": "python"
    }
  },
  "cells": [
    {
      "cell_type": "code",
      "execution_count": null,
      "metadata": {
        "id": "24nLhg6zWRJC",
        "colab": {
          "base_uri": "https://localhost:8080/"
        },
        "outputId": "52fa3632-5be2-4b42-9888-974a09890291"
      },
      "outputs": [
        {
          "output_type": "stream",
          "name": "stdout",
          "text": [
            "Mounted at /content/drive\n"
          ]
        }
      ],
      "source": [
        "### Imports\n",
        "\n",
        "import pandas as pd\n",
        "import numpy as np\n",
        "from google.colab import drive\n",
        "\n",
        "drive.mount('/content/drive')"
      ]
    },
    {
      "cell_type": "code",
      "source": [
        "### Create DataFrame\n",
        "\n",
        "df = pd.read_excel('path_to_your_file')"
      ],
      "metadata": {
        "id": "PauYlsrCWZME"
      },
      "execution_count": null,
      "outputs": []
    },
    {
      "cell_type": "code",
      "source": [
        "# Calculate the porcentage of missiong data\n",
        "# You should repeat this process for all columns that contain temperature data\n",
        "# I had daily mean, max and minimum temperature columns, so i did this 3 times\n",
        "# World Meteorological Organization recomends no more than 20% missing data\n",
        "# However you shold consider the missing data pattern\n",
        "# If you have data missing for long consecutive periods, you shold consider another method for filling in missing data because the one showed below is fragile in those scenarios\n",
        "pct_missing = df['column you want to calculate missing data'].isna().mean() * 100\n",
        "print(round(pct_missing,2))"
      ],
      "metadata": {
        "id": "BzYvtJukAR3Y"
      },
      "execution_count": null,
      "outputs": []
    },
    {
      "cell_type": "code",
      "source": [
        "# Filter the data by year to calculate your T95\n",
        "startT95 = pd.to_datetime('your-start-date')\n",
        "endT95 = pd.to_datetime('your-end-date')\n",
        "# Define T95 based on the filter\n",
        "dfT95 = df[(df['date'] >= startT95) & (df['date'] <= endT95)]\n",
        "# Calculate T95\n",
        "T95 = dfT95['DailyMeanTemperature'].quantile(0.95)"
      ],
      "metadata": {
        "id": "iZ5VP8p1Wb4T",
        "colab": {
          "base_uri": "https://localhost:8080/"
        },
        "outputId": "a8c42fb2-2530-4fa4-d97a-7b551f4f5ec9"
      },
      "execution_count": null,
      "outputs": [
        {
          "output_type": "execute_result",
          "data": {
            "text/plain": [
              "24.2"
            ]
          },
          "metadata": {},
          "execution_count": 3
        }
      ]
    },
    {
      "cell_type": "code",
      "source": [
        "# Make sure your data is ordered\n",
        "startDate = df['date'].min()\n",
        "endDate = df['date'].max()\n",
        "complete_index = pd.date_range(start=startDate, end=endDate)\n",
        "df = df.set_index('date').reindex(complete_index).reset_index()\n",
        "df['DailyMeanTemperature'] = df['DailyMeanTemperature'].fillna(method='ffill').fillna(method='bfill')\n",
        "# Calculate the average temperature for the 3 day period and the 30 day period\n",
        "df['TDP'] = df['DailyMeanTemperature'].shift(-2).rolling(window=3, min_periods=1).mean()\n",
        "df['30DP'] = df['DailyMeanTemperature'].rolling(window=30, min_periods=1).mean()\n",
        "# Keep in mind you should not use the 30 first days of your dataframe due to the calculation of the 30 day period\n",
        "# Calculate EHIaccl\n",
        "df['EHIaccl'] = df['TDP'] - df['30DP']\n",
        "# Calculate EHIsigg\n",
        "df['EHIsigg'] = df['TDP'] - T95\n",
        "# Calculate EHF\n",
        "df['EHF'] =  np.where(df['EHIaccl'] > 1, df['EHIsigg'] * df['EHIaccl'], df['EHIsigg'] * 1)\n",
        "# Define the Heat Wave days\n",
        "df['isHW'] = False\n",
        "for i in range(len(df)):\n",
        "    if df.loc[i, 'EHF'] > 0:\n",
        "        df.loc[i:i+2, 'isHW'] = True"
      ],
      "metadata": {
        "id": "AKO5LvHGW6aE"
      },
      "execution_count": null,
      "outputs": []
    },
    {
      "cell_type": "code",
      "source": [
        "# Caculate EHF85\n",
        "positiveEHFs = df[df['EHF'] > 0]\n",
        "EHF85 = positiveEHFs['EHF'].quantile(0.85)\n",
        "EHF85_3x = EHF85 * 3"
      ],
      "metadata": {
        "id": "OfN1SHjaW9z8",
        "colab": {
          "base_uri": "https://localhost:8080/",
          "height": 17
        },
        "outputId": "be849b0b-1b76-4bd3-8224-3769bc516f72"
      },
      "execution_count": null,
      "outputs": [
        {
          "output_type": "display_data",
          "data": {
            "text/plain": [
              "<IPython.core.display.Javascript object>"
            ],
            "application/javascript": [
              "\n",
              "    async function download(id, filename, size) {\n",
              "      if (!google.colab.kernel.accessAllowed) {\n",
              "        return;\n",
              "      }\n",
              "      const div = document.createElement('div');\n",
              "      const label = document.createElement('label');\n",
              "      label.textContent = `Downloading \"${filename}\": `;\n",
              "      div.appendChild(label);\n",
              "      const progress = document.createElement('progress');\n",
              "      progress.max = size;\n",
              "      div.appendChild(progress);\n",
              "      document.body.appendChild(div);\n",
              "\n",
              "      const buffers = [];\n",
              "      let downloaded = 0;\n",
              "\n",
              "      const channel = await google.colab.kernel.comms.open(id);\n",
              "      // Send a message to notify the kernel that we're ready.\n",
              "      channel.send({})\n",
              "\n",
              "      for await (const message of channel.messages) {\n",
              "        // Send a message to notify the kernel that we're ready.\n",
              "        channel.send({})\n",
              "        if (message.buffers) {\n",
              "          for (const buffer of message.buffers) {\n",
              "            buffers.push(buffer);\n",
              "            downloaded += buffer.byteLength;\n",
              "            progress.value = downloaded;\n",
              "          }\n",
              "        }\n",
              "      }\n",
              "      const blob = new Blob(buffers, {type: 'application/binary'});\n",
              "      const a = document.createElement('a');\n",
              "      a.href = window.URL.createObjectURL(blob);\n",
              "      a.download = filename;\n",
              "      div.appendChild(a);\n",
              "      a.click();\n",
              "      div.remove();\n",
              "    }\n",
              "  "
            ]
          },
          "metadata": {}
        },
        {
          "output_type": "display_data",
          "data": {
            "text/plain": [
              "<IPython.core.display.Javascript object>"
            ],
            "application/javascript": [
              "download(\"download_6f2cd872-fd35-407a-b89b-e355b0d2d915\", \"dados.xlsx\", 1231086)"
            ]
          },
          "metadata": {}
        }
      ]
    },
    {
      "cell_type": "code",
      "source": [
        "# Define the conditions and name possible heat wave intensities based on the EHF value\n",
        "conditions = [\n",
        "    (df['EHF'] <= 0),\n",
        "    (df['EHF'] > 0) & (df['EHF'] < EHF85),\n",
        "    (df['EHF'] >= EHF85) & (df['EHF'] < EHF85_3x),\n",
        "    (df['EHF'] >= EHF85_3x)\n",
        "]\n",
        "intensities = ['Not HW','Low-Intensity','Severe', 'Extreme']\n",
        "# Define the heat wave days's intensities\n",
        "df['HW_Intensity'] = np.select(conditions, intensities)\n",
        "\n",
        "# Calculate daily thermal range\n",
        "df['thermalRange'] = df['maximum temperature column'] - df['minimum temperature column']\n",
        "\n",
        "# Create a 'year' column to facilitate future calculations\n",
        "df['year'] = df['index'].dt.year"
      ],
      "metadata": {
        "id": "ZaPvTVpBB2DQ"
      },
      "execution_count": null,
      "outputs": []
    },
    {
      "cell_type": "code",
      "source": [
        "# Calculate the number of heat wave days per year\n",
        "HWDays = df.groupby('year')['isHW'].sum()\n",
        "print(HWDays)"
      ],
      "metadata": {
        "id": "mF8HbzHFDu0M"
      },
      "execution_count": null,
      "outputs": []
    },
    {
      "cell_type": "code",
      "source": [
        "# Define a function to count the number of heat waves per year\n",
        "def count_HW_periods(df):\n",
        "    df['group'] = (df['isHW'] != df['isHW'].shift()).cumsum()\n",
        "    HW_periods = df[df['isHW']].groupby(['year', 'group']).size().reset_index(name='count')\n",
        "    HW_periods = HW_periods[HW_periods['count'] >= 3]\n",
        "    result = HW_periods.groupby('year').size().reset_index(name='num_HW_periods')\n",
        "    return result\n",
        "\n",
        "# Count the number of heat waves per year\n",
        "result = count_HW_periods(df)\n",
        "print(result)"
      ],
      "metadata": {
        "id": "sCGzAGA5Ei2a"
      },
      "execution_count": null,
      "outputs": []
    },
    {
      "cell_type": "code",
      "source": [
        "# Define a function to calculate the mean heat wave duration per year\n",
        "def calculate_average_duration(df):\n",
        "    # Identify the groups of heat wave periods\n",
        "    df['group'] = (df['isHW'] != df['isHW'].shift()).cumsum()\n",
        "\n",
        "    # Filter the heat wave periods\n",
        "    HW_periods = df[df['isHW']].groupby(['year', 'group']).size().reset_index(name='count')\n",
        "\n",
        "    # Filter only the periods with at least 3 days\n",
        "    HW_periods = HW_periods[HW_periods['count'] >= 3]\n",
        "\n",
        "    # Calculate the average heat wave duration per year\n",
        "    average_duration = HW_periods.groupby('year')['count'].mean().reset_index(name='average_duration')\n",
        "\n",
        "    return average_duration\n",
        "\n",
        "# Print the average heat wave duration per year\n",
        "average_duration = calculate_average_duration(df)\n",
        "print(average_duration)"
      ],
      "metadata": {
        "id": "KbhfYnOkKcFq"
      },
      "execution_count": null,
      "outputs": []
    },
    {
      "cell_type": "code",
      "source": [
        "# Create new column for the mean thermal range (MTR) and assing initial value\n",
        "df['MTR'] = 0\n",
        "\n",
        "# Identify periods with consecutive true values for isHW\n",
        "in_period = False\n",
        "start_idx = 0\n",
        "\n",
        "for i in range(len(df)):\n",
        "    if df.loc[i, 'isHW']:\n",
        "        if not in_period:\n",
        "            in_period = True\n",
        "            start_idx = i\n",
        "    else:\n",
        "        if in_period:\n",
        "            in_period = False\n",
        "            # Calculate the mean for the daily thermal range values in each heat wave\n",
        "            end_idx = i\n",
        "            mean_thermalRange = df.loc[start_idx:end_idx-1, 'thermalRange'].mean()\n",
        "            # Fill in the MTR column with the calculated mean\n",
        "            df.loc[start_idx:end_idx-1, 'MTR'] = mean_thermalRange\n",
        "\n",
        "# Treat the last period in case it is the last dataframe entry\n",
        "if in_period:\n",
        "    mean_thermalRange = df.loc[start_idx:, 'thermalRange'].mean()\n",
        "    df.loc[start_idx:, 'MTR'] = mean_thermalRange"
      ],
      "metadata": {
        "id": "zbfkejshLlit"
      },
      "execution_count": null,
      "outputs": []
    },
    {
      "cell_type": "code",
      "source": [
        "# Create a function to calculate number of heatwaves per month across the dataframe\n",
        "# This is intended to find out which are the monsths that heat waves happen most commonly\n",
        "def count_heatWaves_by_month(df):\n",
        "    # Identify groups\n",
        "    df['group'] = (df['isHW'] != df['isHW'].shift()).cumsum()\n",
        "\n",
        "    # Filter the heat waves\n",
        "    Heat_Waves = df[df['isHW']].groupby(['group']).agg(\n",
        "        start_date=('index', 'first'),\n",
        "        end_date=('index', 'last')\n",
        "    ).reset_index()\n",
        "\n",
        "    # Extract the month of the start of the heat wave\n",
        "    Heat_Waves['month'] = Heat_Waves['start_date'].dt.month\n",
        "\n",
        "    # Count the number of heat waves per month across the years\n",
        "    HW_by_month = Heat_Waves.groupby(['month']).size().reset_index(name='num_periods')\n",
        "\n",
        "    return HW_by_month\n",
        "\n",
        "# Executar a função\n",
        "HW_by_month = count_heatWaves_by_month(df)\n",
        "print(HW_by_month)"
      ],
      "metadata": {
        "colab": {
          "base_uri": "https://localhost:8080/",
          "height": 193
        },
        "id": "pJS7QwQ-JMTm",
        "outputId": "3889988b-7c2a-49d2-de6a-eb4f3f7dd3ac"
      },
      "execution_count": 1,
      "outputs": [
        {
          "output_type": "error",
          "ename": "NameError",
          "evalue": "name 'df' is not defined",
          "traceback": [
            "\u001b[0;31m---------------------------------------------------------------------------\u001b[0m",
            "\u001b[0;31mNameError\u001b[0m                                 Traceback (most recent call last)",
            "\u001b[0;32m<ipython-input-1-ef231da2c118>\u001b[0m in \u001b[0;36m<cell line: 23>\u001b[0;34m()\u001b[0m\n\u001b[1;32m     21\u001b[0m \u001b[0;34m\u001b[0m\u001b[0m\n\u001b[1;32m     22\u001b[0m \u001b[0;31m# Executar a função\u001b[0m\u001b[0;34m\u001b[0m\u001b[0;34m\u001b[0m\u001b[0m\n\u001b[0;32m---> 23\u001b[0;31m \u001b[0mHW_by_month\u001b[0m \u001b[0;34m=\u001b[0m \u001b[0mcount_heatWaves_by_month\u001b[0m\u001b[0;34m(\u001b[0m\u001b[0mdf\u001b[0m\u001b[0;34m)\u001b[0m\u001b[0;34m\u001b[0m\u001b[0;34m\u001b[0m\u001b[0m\n\u001b[0m\u001b[1;32m     24\u001b[0m \u001b[0mprint\u001b[0m\u001b[0;34m(\u001b[0m\u001b[0mHW_by_month\u001b[0m\u001b[0;34m)\u001b[0m\u001b[0;34m\u001b[0m\u001b[0;34m\u001b[0m\u001b[0m\n",
            "\u001b[0;31mNameError\u001b[0m: name 'df' is not defined"
          ]
        }
      ]
    },
    {
      "cell_type": "code",
      "source": [],
      "metadata": {
        "id": "opDxYmTbJXv_"
      },
      "execution_count": null,
      "outputs": []
    }
  ]
}